{
 "cells": [
  {
   "cell_type": "markdown",
   "id": "8ea44add",
   "metadata": {},
   "source": [
    "# Import data dan ketahui jenis-jenis data setiap kolom"
   ]
  },
  {
   "cell_type": "code",
   "execution_count": 166,
   "id": "07755ef3",
   "metadata": {},
   "outputs": [
    {
     "name": "stdout",
     "output_type": "stream",
     "text": [
      "Informasi data frame awal:\n",
      "<class 'pandas.core.frame.DataFrame'>\n",
      "Int64Index: 61900 entries, 0 to 61899\n",
      "Data columns (total 6 columns):\n",
      " #   Column                 Non-Null Count  Dtype         \n",
      "---  ------                 --------------  -----         \n",
      " 0   date                   61900 non-null  datetime64[ns]\n",
      " 1   daily_confirmed_cases  61900 non-null  int64         \n",
      " 2   daily_deaths           61900 non-null  int64         \n",
      " 3   confirmed_cases        61900 non-null  int64         \n",
      " 4   deaths                 61900 non-null  int64         \n",
      " 5   geo_id                 61625 non-null  object        \n",
      "dtypes: datetime64[ns](1), int64(4), object(1)\n",
      "memory usage: 3.3+ MB\n",
      "\n",
      "Informasi data frame setelah set index kolom date:\n"
     ]
    },
    {
     "data": {
      "text/html": [
       "<div>\n",
       "<style scoped>\n",
       "    .dataframe tbody tr th:only-of-type {\n",
       "        vertical-align: middle;\n",
       "    }\n",
       "\n",
       "    .dataframe tbody tr th {\n",
       "        vertical-align: top;\n",
       "    }\n",
       "\n",
       "    .dataframe thead th {\n",
       "        text-align: right;\n",
       "    }\n",
       "</style>\n",
       "<table border=\"1\" class=\"dataframe\">\n",
       "  <thead>\n",
       "    <tr style=\"text-align: right;\">\n",
       "      <th></th>\n",
       "      <th>daily_confirmed_cases</th>\n",
       "      <th>daily_deaths</th>\n",
       "      <th>confirmed_cases</th>\n",
       "      <th>deaths</th>\n",
       "      <th>geo_id</th>\n",
       "    </tr>\n",
       "    <tr>\n",
       "      <th>date</th>\n",
       "      <th></th>\n",
       "      <th></th>\n",
       "      <th></th>\n",
       "      <th></th>\n",
       "      <th></th>\n",
       "    </tr>\n",
       "  </thead>\n",
       "  <tbody>\n",
       "    <tr>\n",
       "      <th>2019-12-31</th>\n",
       "      <td>0</td>\n",
       "      <td>0</td>\n",
       "      <td>0</td>\n",
       "      <td>0</td>\n",
       "      <td>IN</td>\n",
       "    </tr>\n",
       "    <tr>\n",
       "      <th>2019-12-31</th>\n",
       "      <td>0</td>\n",
       "      <td>0</td>\n",
       "      <td>0</td>\n",
       "      <td>0</td>\n",
       "      <td>IR</td>\n",
       "    </tr>\n",
       "    <tr>\n",
       "      <th>2019-12-31</th>\n",
       "      <td>0</td>\n",
       "      <td>0</td>\n",
       "      <td>0</td>\n",
       "      <td>0</td>\n",
       "      <td>PK</td>\n",
       "    </tr>\n",
       "    <tr>\n",
       "      <th>2019-12-31</th>\n",
       "      <td>0</td>\n",
       "      <td>0</td>\n",
       "      <td>0</td>\n",
       "      <td>0</td>\n",
       "      <td>AM</td>\n",
       "    </tr>\n",
       "    <tr>\n",
       "      <th>2019-12-31</th>\n",
       "      <td>27</td>\n",
       "      <td>0</td>\n",
       "      <td>27</td>\n",
       "      <td>0</td>\n",
       "      <td>CN</td>\n",
       "    </tr>\n",
       "    <tr>\n",
       "      <th>...</th>\n",
       "      <td>...</td>\n",
       "      <td>...</td>\n",
       "      <td>...</td>\n",
       "      <td>...</td>\n",
       "      <td>...</td>\n",
       "    </tr>\n",
       "    <tr>\n",
       "      <th>2020-12-14</th>\n",
       "      <td>528</td>\n",
       "      <td>1</td>\n",
       "      <td>9708</td>\n",
       "      <td>92</td>\n",
       "      <td>UY</td>\n",
       "    </tr>\n",
       "    <tr>\n",
       "      <th>2020-12-14</th>\n",
       "      <td>26</td>\n",
       "      <td>0</td>\n",
       "      <td>69</td>\n",
       "      <td>0</td>\n",
       "      <td>GD</td>\n",
       "    </tr>\n",
       "    <tr>\n",
       "      <th>2020-12-14</th>\n",
       "      <td>0</td>\n",
       "      <td>0</td>\n",
       "      <td>11101</td>\n",
       "      <td>166</td>\n",
       "      <td>MT</td>\n",
       "    </tr>\n",
       "    <tr>\n",
       "      <th>2020-12-14</th>\n",
       "      <td>16362</td>\n",
       "      <td>188</td>\n",
       "      <td>1337078</td>\n",
       "      <td>21975</td>\n",
       "      <td>DE</td>\n",
       "    </tr>\n",
       "    <tr>\n",
       "      <th>2020-12-14</th>\n",
       "      <td>2138</td>\n",
       "      <td>40</td>\n",
       "      <td>571919</td>\n",
       "      <td>15886</td>\n",
       "      <td>CL</td>\n",
       "    </tr>\n",
       "  </tbody>\n",
       "</table>\n",
       "<p>61900 rows × 5 columns</p>\n",
       "</div>"
      ],
      "text/plain": [
       "            daily_confirmed_cases  daily_deaths  confirmed_cases  deaths  \\\n",
       "date                                                                       \n",
       "2019-12-31                      0             0                0       0   \n",
       "2019-12-31                      0             0                0       0   \n",
       "2019-12-31                      0             0                0       0   \n",
       "2019-12-31                      0             0                0       0   \n",
       "2019-12-31                     27             0               27       0   \n",
       "...                           ...           ...              ...     ...   \n",
       "2020-12-14                    528             1             9708      92   \n",
       "2020-12-14                     26             0               69       0   \n",
       "2020-12-14                      0             0            11101     166   \n",
       "2020-12-14                  16362           188          1337078   21975   \n",
       "2020-12-14                   2138            40           571919   15886   \n",
       "\n",
       "           geo_id  \n",
       "date               \n",
       "2019-12-31     IN  \n",
       "2019-12-31     IR  \n",
       "2019-12-31     PK  \n",
       "2019-12-31     AM  \n",
       "2019-12-31     CN  \n",
       "...           ...  \n",
       "2020-12-14     UY  \n",
       "2020-12-14     GD  \n",
       "2020-12-14     MT  \n",
       "2020-12-14     DE  \n",
       "2020-12-14     CL  \n",
       "\n",
       "[61900 rows x 5 columns]"
      ]
     },
     "execution_count": 166,
     "metadata": {},
     "output_type": "execute_result"
    }
   ],
   "source": [
    "import numpy as np\n",
    "import pandas as pd\n",
    "pd.set_option(\"display.max_columns\", None)\n",
    "\n",
    "import ssl\n",
    "ssl._create_default_https_context = ssl._create_unverified_context\n",
    "\n",
    "covid_url = \"https://dqlab.id/data/covid19_worldwide_2020.json\"\n",
    "df_covid_worldwide = pd.read_json(covid_url)\n",
    "\n",
    "print(\"Informasi data frame awal:\")\n",
    "df_covid_worldwide.info()\n",
    "\n",
    "df_covid_worldwide = df_covid_worldwide.set_index(\"date\").sort_values(by=\"date\")\n",
    "\n",
    "print(\"\\nInformasi data frame setelah set index kolom date:\")\n",
    "df_covid_worldwide"
   ]
  },
  {
   "cell_type": "markdown",
   "id": "08a7568f",
   "metadata": {},
   "source": [
    "# Missing Value"
   ]
  },
  {
   "cell_type": "code",
   "execution_count": 167,
   "id": "7a411c82",
   "metadata": {},
   "outputs": [
    {
     "name": "stdout",
     "output_type": "stream",
     "text": [
      "Jumlah missing value tiap kolom:\n",
      "daily_confirmed_cases      0\n",
      "daily_deaths               0\n",
      "confirmed_cases            0\n",
      "deaths                     0\n",
      "geo_id                   275\n",
      "dtype: int64\n",
      "\n",
      "Jumlah missing value tiap kolom setelah didrop:\n"
     ]
    },
    {
     "ename": "AttributeError",
     "evalue": "'NoneType' object has no attribute 'isnull'",
     "output_type": "error",
     "traceback": [
      "\u001b[1;31m---------------------------------------------------------------------------\u001b[0m",
      "\u001b[1;31mAttributeError\u001b[0m                            Traceback (most recent call last)",
      "\u001b[1;32m~\\AppData\\Local\\Temp/ipykernel_1676/3544848333.py\u001b[0m in \u001b[0;36m<module>\u001b[1;34m\u001b[0m\n\u001b[0;32m     16\u001b[0m \u001b[1;33m\u001b[0m\u001b[0m\n\u001b[0;32m     17\u001b[0m \u001b[0mprint\u001b[0m\u001b[1;33m(\u001b[0m\u001b[1;34m\"\\nJumlah missing value tiap kolom setelah didrop:\"\u001b[0m\u001b[1;33m)\u001b[0m\u001b[1;33m\u001b[0m\u001b[1;33m\u001b[0m\u001b[0m\n\u001b[1;32m---> 18\u001b[1;33m \u001b[0mprint\u001b[0m\u001b[1;33m(\u001b[0m\u001b[0mdf_covid_worldwide\u001b[0m\u001b[1;33m.\u001b[0m\u001b[0misnull\u001b[0m\u001b[1;33m(\u001b[0m\u001b[1;33m)\u001b[0m\u001b[1;33m.\u001b[0m\u001b[0msum\u001b[0m\u001b[1;33m(\u001b[0m\u001b[1;33m)\u001b[0m\u001b[1;33m)\u001b[0m\u001b[1;33m\u001b[0m\u001b[1;33m\u001b[0m\u001b[0m\n\u001b[0m",
      "\u001b[1;31mAttributeError\u001b[0m: 'NoneType' object has no attribute 'isnull'"
     ]
    }
   ],
   "source": [
    "import numpy as np\n",
    "import pandas as pd\n",
    "pd.set_option(\"display.max_columns\", None)\n",
    "\n",
    "import ssl\n",
    "ssl._create_default_https_context = ssl._create_unverified_context\n",
    "\n",
    "covid_url = \"https://dqlab.id/data/covid19_worldwide_2020.json\"\n",
    "df_covid_worldwide = pd.read_json(covid_url)\n",
    "df_covid_worldwide = df_covid_worldwide.set_index(\"date\").sort_index()\n",
    "\n",
    "print(\"Jumlah missing value tiap kolom:\")\n",
    "print(df_covid_worldwide.isnull().sum())\n",
    "\n",
    "df_covid_worldwide = df_covid_worldwide.dropna(inplace=True)\n",
    "\n",
    "print(\"\\nJumlah missing value tiap kolom setelah didrop:\")\n",
    "print(df_covid_worldwide.isnull().sum())"
   ]
  },
  {
   "cell_type": "markdown",
   "id": "4ed450ba",
   "metadata": {},
   "source": [
    "# Merge Dataset"
   ]
  },
  {
   "cell_type": "code",
   "execution_count": null,
   "id": "7dc6b390",
   "metadata": {},
   "outputs": [],
   "source": [
    "import numpy as np\n",
    "import pandas as pd\n",
    "pd.set_option(\"display.max_columns\", None)\n",
    "\n",
    "import ssl\n",
    "ssl._create_default_https_context = ssl._create_unverified_context\n",
    "\n",
    "covid_url = \"https://dqlab.id/data/covid19_worldwide_2020.json\"\n",
    "df_covid_worldwide = pd.read_json(covid_url)\n",
    "df_covid_worldwide = df_covid_worldwide.set_index(\"date\").sort_index().dropna()\n",
    "\n",
    "countries_url = \"https://dqlab.id/data/country_details.json\"\n",
    "df_countries = pd.read_json(countries_url)\n",
    "\n",
    "df_covid_denormalized = pd.merge(df_covid_worldwide.reset_index(), df_countries, on=\"geo_id\").set_index(\"date\")\n",
    "print(df_covid_denormalized)"
   ]
  },
  {
   "cell_type": "markdown",
   "id": "827cb8ee",
   "metadata": {},
   "source": [
    "# Menghitung Fatality Ratio"
   ]
  },
  {
   "cell_type": "code",
   "execution_count": null,
   "id": "45a01484",
   "metadata": {},
   "outputs": [],
   "source": [
    "import numpy as np\n",
    "import pandas as pd\n",
    "pd.set_option(\"display.max_columns\", None)\n",
    "\n",
    "import ssl\n",
    "ssl._create_default_https_context = ssl._create_unverified_context\n",
    "\n",
    "covid_url = \"https://dqlab.id/data/covid19_worldwide_2020.json\"\n",
    "df_covid_worldwide = pd.read_json(covid_url)\n",
    "df_covid_worldwide = df_covid_worldwide.set_index(\"date\").sort_index().dropna()\n",
    "\n",
    "countries_url = \"https://dqlab.id/data/country_details.json\"\n",
    "df_countries = pd.read_json(countries_url)\n",
    "\n",
    "df_covid_denormalized = pd.merge(df_covid_worldwide.reset_index(), df_countries, on=\"geo_id\").set_index(\"date\")\n",
    "\n",
    "df_covid_denormalized[\"fatality_ratio\"] = df_covid_denormalized[\"deaths\"] / df_covid_denormalized[\"confirmed_cases\"]\n",
    "print(df_covid_denormalized.head())"
   ]
  },
  {
   "cell_type": "markdown",
   "id": "19f4d11e",
   "metadata": {},
   "source": [
    "# Melihat 20 negara tertinggi"
   ]
  },
  {
   "cell_type": "code",
   "execution_count": 168,
   "id": "0fc3745c",
   "metadata": {},
   "outputs": [
    {
     "name": "stdout",
     "output_type": "stream",
     "text": [
      "           geo_id country_name  fatality_ratio\n",
      "date                                          \n",
      "2020-03-15     SD        Sudan             1.0\n",
      "2020-02-20     IR         Iran             1.0\n",
      "2020-03-16     GT    Guatemala             1.0\n",
      "2020-03-13     GY       Guyana             1.0\n",
      "2020-03-18     SD        Sudan             1.0\n",
      "2020-03-17     SD        Sudan             1.0\n",
      "2020-03-16     SD        Sudan             1.0\n",
      "2020-02-03     PH  Philippines             0.5\n",
      "2020-02-05     PH  Philippines             0.5\n",
      "2020-02-04     PH  Philippines             0.5\n",
      "2020-03-28     NI    Nicaragua             0.5\n",
      "2020-02-02     PH  Philippines             0.5\n",
      "2020-03-24     ZW     Zimbabwe             0.5\n",
      "2020-03-24     GM       Gambia             0.5\n",
      "2020-03-19     SD        Sudan             0.5\n",
      "2020-03-20     SD        Sudan             0.5\n",
      "2020-03-21     SD        Sudan             0.5\n",
      "2020-03-22     SD        Sudan             0.5\n",
      "2020-03-23     SD        Sudan             0.5\n",
      "2020-03-24     SD        Sudan             0.5\n"
     ]
    }
   ],
   "source": [
    "import numpy as np\n",
    "import pandas as pd\n",
    "pd.set_option(\"display.max_columns\", None)\n",
    "\n",
    "import ssl\n",
    "ssl._create_default_https_context = ssl._create_unverified_context\n",
    "\n",
    "covid_url = \"https://dqlab.id/data/covid19_worldwide_2020.json\"\n",
    "df_covid_worldwide = pd.read_json(covid_url)\n",
    "df_covid_worldwide = df_covid_worldwide.set_index(\"date\").sort_index().dropna()\n",
    "\n",
    "countries_url = \"https://dqlab.id/data/country_details.json\"\n",
    "df_countries = pd.read_json(countries_url)\n",
    "\n",
    "df_covid_denormalized = pd.merge(df_covid_worldwide.reset_index(), df_countries, on=\"geo_id\").set_index(\"date\")\n",
    "\n",
    "df_covid_denormalized[\"fatality_ratio\"] = df_covid_denormalized[\"deaths\"] / df_covid_denormalized[\"confirmed_cases\"]\n",
    "\n",
    "df_top_20_fatality_rate = df_covid_denormalized.sort_values(by=\"fatality_ratio\", ascending=False)#.___(___)\n",
    "print(df_top_20_fatality_rate[[\"geo_id\",\"country_name\",\"fatality_ratio\"]].head(20))\n",
    "# print(df_top_20_fatality_rate[[\"geo_id\",\"country_name\",\"fatality_ratio\"]])"
   ]
  },
  {
   "cell_type": "markdown",
   "id": "55a6cecf",
   "metadata": {},
   "source": [
    "# Menampilkan data 20 teratas pada bulan agustus"
   ]
  },
  {
   "cell_type": "code",
   "execution_count": 35,
   "id": "b8319573",
   "metadata": {
    "scrolled": true
   },
   "outputs": [
    {
     "name": "stdout",
     "output_type": "stream",
     "text": [
      "                        fatality_ratio\n",
      "country_name                          \n",
      "Yemen                         8.879883\n",
      "France                        4.335139\n",
      "Italy                         4.299190\n",
      "United_Kingdom                4.040225\n",
      "Belgium                       3.890099\n",
      "Hungary                       3.823878\n",
      "Netherlands                   3.096865\n",
      "Mexico                        3.069635\n",
      "Jersey                        2.750839\n",
      "British_Virgin_Islands        2.673802\n",
      "Spain                         2.517502\n",
      "Chad                          2.446168\n",
      "Montserrat                    2.384615\n",
      "Canada                        2.294347\n",
      "Sweden                        2.217322\n",
      "Isle_of_Man                   2.214286\n",
      "Sint_Maarten                  2.103930\n",
      "Ireland                       2.017663\n",
      "Sudan                         1.992533\n",
      "Liberia                       1.982393\n"
     ]
    }
   ],
   "source": [
    "import numpy as np\n",
    "import pandas as pd\n",
    "pd.set_option(\"display.max_columns\", None)\n",
    "\n",
    "import ssl\n",
    "ssl._create_default_https_context = ssl._create_unverified_context\n",
    "\n",
    "covid_url = \"https://dqlab.id/data/covid19_worldwide_2020.json\"\n",
    "df_covid_worldwide = pd.read_json(covid_url)\n",
    "df_covid_worldwide = df_covid_worldwide.set_index(\"date\").sort_index().dropna()\n",
    "\n",
    "countries_url = \"https://dqlab.id/data/country_details.json\"\n",
    "df_countries = pd.read_json(countries_url)\n",
    "\n",
    "df_covid_denormalized = pd.merge(df_covid_worldwide.reset_index(), df_countries, on=\"geo_id\").set_index(\"date\")\n",
    "\n",
    "df_covid_denormalized[\"fatality_ratio\"] = df_covid_denormalized[\"deaths\"] / df_covid_denormalized[\"confirmed_cases\"]\n",
    "\n",
    "print(df_covid_denormalized[[\"geo_id\",\"country_name\",\"fatality_ratio\"]].loc[\"2020-08\"].groupby(\"country_name\").sum().sort_values(\n",
    "    by=[\"fatality_ratio\"], ascending=False).head(20))#.drop_duplicates(subset=[\"country_name\"]\n"
   ]
  },
  {
   "cell_type": "markdown",
   "id": "0d040ee6",
   "metadata": {},
   "source": [
    "# Visualisasi Data"
   ]
  },
  {
   "cell_type": "code",
   "execution_count": 89,
   "id": "81109842",
   "metadata": {},
   "outputs": [
    {
     "data": {
      "image/png": "[encoded data removed]",
      "text/plain": [
       "<Figure size 576x576 with 1 Axes>"
      ]
     },
     "metadata": {
      "needs_background": "light"
     },
     "output_type": "display_data"
    }
   ],
   "source": [
    "import numpy as np\n",
    "import pandas as pd\n",
    "import matplotlib.pyplot as plt\n",
    "pd.set_option(\"display.max_columns\", None)\n",
    "\n",
    "import ssl\n",
    "ssl._create_default_https_context = ssl._create_unverified_context\n",
    "\n",
    "covid_url = \"https://dqlab.id/data/covid19_worldwide_2020.json\"\n",
    "df_covid_worldwide = pd.read_json(covid_url)\n",
    "df_covid_worldwide = df_covid_worldwide.set_index(\"date\").sort_index().dropna()\n",
    "\n",
    "countries_url = \"https://dqlab.id/data/country_details.json\"\n",
    "df_countries = pd.read_json(countries_url)\n",
    "\n",
    "df_covid_denormalized = pd.merge(df_covid_worldwide.reset_index(), df_countries, on=\"geo_id\").set_index(\"date\")\n",
    "\n",
    "df_covid_denormalized[\"fatality_ratio\"] = df_covid_denormalized[\"deaths\"] / df_covid_denormalized[\"confirmed_cases\"]\n",
    "\n",
    "df_20_top_country = df_covid_denormalized.loc[\"2020-08\"].groupby(\"country_name\")[\"fatality_ratio\"].sum()\n",
    "df_20_top_country = df_20_top_country.sort_values(ascending=False).head(20)\n",
    "df_20_top_country\n",
    "plt.figure(figsize=(8,8))\n",
    "df_20_top_country.sort_values().plot(kind=\"barh\", color=\"coral\")\n",
    "plt.title(\"Top 20 Highest Fatality Rate Countries\", fontsize=18, color=\"b\")\n",
    "plt.xlabel(\"Fatality Rate\", fontsize=14)\n",
    "plt.ylabel(\"Country Name\", fontsize=14)\n",
    "plt.grid(axis=\"x\")\n",
    "plt.tight_layout()\n",
    "plt.show()"
   ]
  },
  {
   "cell_type": "code",
   "execution_count": 88,
   "id": "8b677e33",
   "metadata": {},
   "outputs": [
    {
     "data": {
      "image/png": "[encoded data removed]",
      "text/plain": [
       "<Figure size 576x576 with 1 Axes>"
      ]
     },
     "metadata": {
      "needs_background": "light"
     },
     "output_type": "display_data"
    }
   ],
   "source": [
    "import numpy as np\n",
    "import pandas as pd\n",
    "import matplotlib.pyplot as plt\n",
    "pd.set_option(\"display.max_columns\", None)\n",
    "\n",
    "import ssl\n",
    "ssl._create_default_https_context = ssl._create_unverified_context\n",
    "\n",
    "covid_url = \"https://dqlab.id/data/covid19_worldwide_2020.json\"\n",
    "df_covid_worldwide = pd.read_json(covid_url)\n",
    "df_covid_worldwide = df_covid_worldwide.set_index(\"date\").sort_index().dropna()\n",
    "\n",
    "countries_url = \"https://dqlab.id/data/country_details.json\"\n",
    "df_countries = pd.read_json(countries_url)\n",
    "\n",
    "df_covid_denormalized = pd.merge(df_covid_worldwide.reset_index(), df_countries, on=\"geo_id\").set_index(\"date\")\n",
    "\n",
    "df_covid_denormalized[\"fatality_ratio\"] = df_covid_denormalized[\"deaths\"] / df_covid_denormalized[\"confirmed_cases\"]\n",
    "\n",
    "df_20_top_country = df_covid_denormalized.loc[\"2020-08\"].groupby(\"country_name\").sum()\n",
    "\n",
    "df_20_top_country = df_20_top_country.sort_values(\"fatality_ratio\", ascending=False).head(20)\n",
    "\n",
    "plt.figure(figsize=(8,8))\n",
    "df_20_top_country[\"fatality_ratio\"].sort_values().plot(kind=\"barh\", color=\"coral\")\n",
    "plt.title(\"Top 20 Highest Fatality Rate Countries\", fontsize=18, color=\"b\")\n",
    "plt.xlabel(\"Fatality Rate\", fontsize=14)\n",
    "plt.ylabel(\"Country Name\", fontsize=14)\n",
    "plt.grid(axis=\"x\")\n",
    "plt.tight_layout()\n",
    "plt.show()\n"
   ]
  },
  {
   "cell_type": "markdown",
   "id": "12749496",
   "metadata": {},
   "source": [
    "# Tampilkan semua yang hanya berhubungan dengan :\n",
    "### 'Vietnam' 'Indonesia' 'Thailand' 'Singapore' 'Malaysia'"
   ]
  },
  {
   "cell_type": "code",
   "execution_count": 108,
   "id": "2ece0ffd",
   "metadata": {},
   "outputs": [
    {
     "name": "stdout",
     "output_type": "stream",
     "text": [
      "Cek nilai unik di kolom 'country_name': ['Malaysia' 'Vietnam' 'Thailand' 'Singapore' 'Indonesia']\n",
      "            daily_confirmed_cases  daily_deaths  confirmed_cases  deaths  \\\n",
      "date                                                                       \n",
      "2019-12-31                      0             0                0       0   \n",
      "2019-12-31                      0             0                0       0   \n",
      "2019-12-31                      0             0                0       0   \n",
      "2019-12-31                      0             0                0       0   \n",
      "2019-12-31                      0             0                0       0   \n",
      "\n",
      "           geo_id country_name  \n",
      "date                            \n",
      "2019-12-31     MY     Malaysia  \n",
      "2019-12-31     VN      Vietnam  \n",
      "2019-12-31     TH     Thailand  \n",
      "2019-12-31     SG    Singapore  \n",
      "2019-12-31     ID    Indonesia  \n"
     ]
    }
   ],
   "source": [
    "import numpy as np\n",
    "import pandas as pd\n",
    "pd.set_option(\"display.max_columns\", None)\n",
    "\n",
    "import ssl\n",
    "ssl._create_default_https_context = ssl._create_unverified_context\n",
    "\n",
    "covid_url = \"https://dqlab.id/data/covid19_worldwide_2020.json\"\n",
    "df_covid_worldwide = pd.read_json(covid_url)\n",
    "df_covid_worldwide = df_covid_worldwide.set_index(\"date\").sort_index().dropna()\n",
    "\n",
    "countries_url = \"https://dqlab.id/data/country_details.json\"\n",
    "df_countries = pd.read_json(countries_url)\n",
    "\n",
    "df_covid_denormalized = pd.merge(df_covid_worldwide.reset_index(), df_countries, on=\"geo_id\").set_index(\"date\")\n",
    "asean_country_id = [\"ID\", \"MY\", \"SG\", \"TH\", \"VN\"]\n",
    "filter_list = [(df_covid_denormalized[\"geo_id\"]==country_id).to_numpy() for country_id in asean_country_id]\n",
    "filter_array = np.column_stack(filter_list).sum(axis=1, dtype=\"bool\")\n",
    "df_covid_denormalized_asean = df_covid_denormalized[filter_array].sort_index()\n",
    "print(\"Cek nilai unik di kolom 'country_name':\", df_covid_denormalized_asean[\"country_name\"].unique())\n",
    "print(df_covid_denormalized_asean.head())\n"
   ]
  },
  {
   "cell_type": "markdown",
   "id": "2e0d23aa",
   "metadata": {},
   "source": [
    "# Mengetahui kapan dari masing-masing negara tersebut muncul kasus pertama"
   ]
  },
  {
   "cell_type": "code",
   "execution_count": 134,
   "id": "4802b04b",
   "metadata": {},
   "outputs": [
    {
     "name": "stdout",
     "output_type": "stream",
     "text": [
      "            confirmed_cases geo_id country_name\n",
      "date                                           \n",
      "2020-03-02                2     ID    Indonesia\n",
      "            confirmed_cases geo_id country_name\n",
      "date                                           \n",
      "2020-01-25                3     MY     Malaysia\n",
      "            confirmed_cases geo_id country_name\n",
      "date                                           \n",
      "2020-01-24                3     SG    Singapore\n",
      "            confirmed_cases geo_id country_name\n",
      "date                                           \n",
      "2020-01-13                1     TH     Thailand\n",
      "            confirmed_cases geo_id country_name\n",
      "date                                           \n",
      "2020-01-24                2     VN      Vietnam\n",
      "            daily_confirmed_cases  daily_deaths  confirmed_cases  deaths  \\\n",
      "date                                                                       \n",
      "2019-12-31                      0             0                0       0   \n",
      "2019-12-31                      0             0                0       0   \n",
      "2019-12-31                      0             0                0       0   \n",
      "2019-12-31                      0             0                0       0   \n",
      "2019-12-31                      0             0                0       0   \n",
      "...                           ...           ...              ...     ...   \n",
      "2020-12-14                   6189           166           617820   18819   \n",
      "2020-12-14                   1229             4            83475     415   \n",
      "2020-12-14                      7             0            58320      29   \n",
      "2020-12-14                     28             0             4237      60   \n",
      "2020-12-14                      2             0             1397      35   \n",
      "\n",
      "           geo_id country_name  \n",
      "date                            \n",
      "2019-12-31     MY     Malaysia  \n",
      "2019-12-31     VN      Vietnam  \n",
      "2019-12-31     TH     Thailand  \n",
      "2019-12-31     SG    Singapore  \n",
      "2019-12-31     ID    Indonesia  \n",
      "...           ...          ...  \n",
      "2020-12-14     ID    Indonesia  \n",
      "2020-12-14     MY     Malaysia  \n",
      "2020-12-14     SG    Singapore  \n",
      "2020-12-14     TH     Thailand  \n",
      "2020-12-14     VN      Vietnam  \n",
      "\n",
      "[1731 rows x 6 columns]\n"
     ]
    }
   ],
   "source": [
    "import numpy as np\n",
    "import pandas as pd\n",
    "pd.set_option(\"display.max_columns\", None)\n",
    "\n",
    "import ssl\n",
    "ssl._create_default_https_context = ssl._create_unverified_context\n",
    "\n",
    "covid_url = \"https://dqlab.id/data/covid19_worldwide_2020.json\"\n",
    "df_covid_worldwide = pd.read_json(covid_url)\n",
    "df_covid_worldwide = df_covid_worldwide.set_index(\"date\").sort_index().dropna()\n",
    "\n",
    "countries_url = \"https://dqlab.id/data/country_details.json\"\n",
    "df_countries = pd.read_json(countries_url)\n",
    "\n",
    "df_covid_denormalized = pd.merge(df_covid_worldwide.reset_index(), df_countries, on=\"geo_id\").set_index(\"date\")\n",
    "asean_country_id = [\"ID\", \"MY\", \"SG\", \"TH\", \"VN\"]\n",
    "filter_list = [(df_covid_denormalized[\"geo_id\"]==country_id).to_numpy() for country_id in asean_country_id]\n",
    "filter_array = np.column_stack(filter_list).sum(axis=1, dtype=\"bool\")\n",
    "df_covid_denormalized_asean = df_covid_denormalized[filter_array].sort_index()\n",
    "# print(\"Cek nilai unik di kolom 'country_name':\", df_covid_denormalized_asean[\"country_name\"].unique())\n",
    "\n",
    "for country_id in asean_country_id:\n",
    "    asean_country = df_covid_denormalized_asean[df_covid_denormalized_asean[\"geo_id\"]==country_id]\n",
    "    first_case = asean_country[asean_country[\"confirmed_cases\"] > 0][[\"confirmed_cases\",\"geo_id\",\"country_name\"]]\n",
    "    print(first_case.head(1))\n",
    "\n",
    "print(df_covid_denormalized_asean)"
   ]
  },
  {
   "cell_type": "markdown",
   "id": "3e4be285",
   "metadata": {},
   "source": [
    "# Data dari 1 maret sampai tanggal terakhir"
   ]
  },
  {
   "cell_type": "code",
   "execution_count": 139,
   "id": "a5fd98e4",
   "metadata": {},
   "outputs": [
    {
     "name": "stdout",
     "output_type": "stream",
     "text": [
      "            daily_confirmed_cases  daily_deaths  confirmed_cases  deaths  \\\n",
      "date                                                                       \n",
      "2020-03-01                      0             1               42       1   \n",
      "2020-03-01                      4             0              102       0   \n",
      "2020-03-01                      0             0               16       0   \n",
      "2020-03-01                      0             0                0       0   \n",
      "2020-03-01                      0             0               25       0   \n",
      "\n",
      "           geo_id country_name  \n",
      "date                            \n",
      "2020-03-01     TH     Thailand  \n",
      "2020-03-01     SG    Singapore  \n",
      "2020-03-01     VN      Vietnam  \n",
      "2020-03-01     ID    Indonesia  \n",
      "2020-03-01     MY     Malaysia  \n"
     ]
    }
   ],
   "source": [
    "import numpy as np\n",
    "import pandas as pd\n",
    "pd.set_option(\"display.max_columns\", None)\n",
    "\n",
    "import ssl\n",
    "ssl._create_default_https_context = ssl._create_unverified_context\n",
    "\n",
    "covid_url = \"https://dqlab.id/data/covid19_worldwide_2020.json\"\n",
    "df_covid_worldwide = pd.read_json(covid_url)\n",
    "df_covid_worldwide = df_covid_worldwide.set_index(\"date\").sort_index().dropna()\n",
    "\n",
    "countries_url = \"https://dqlab.id/data/country_details.json\"\n",
    "df_countries = pd.read_json(countries_url)\n",
    "\n",
    "df_covid_denormalized = pd.merge(df_covid_worldwide.reset_index(), df_countries, on=\"geo_id\").set_index(\"date\")\n",
    "\n",
    "asean_country_id = [\"ID\", \"MY\", \"SG\", \"TH\", \"VN\"]\n",
    "filter_list = [(df_covid_denormalized[\"geo_id\"]==country_id).to_numpy() for country_id in asean_country_id]\n",
    "filter_array = np.column_stack(filter_list).sum(axis=1, dtype=\"bool\")\n",
    "df_covid_denormalized_asean = df_covid_denormalized[filter_array].sort_index()\n",
    "\n",
    "df_covid_denormalized_asean_march_onward = df_covid_denormalized_asean[df_covid_denormalized_asean.index>=\"2020-03-01\"]\n",
    "print(df_covid_denormalized_asean_march_onward.head())"
   ]
  },
  {
   "cell_type": "markdown",
   "id": "fed6b431",
   "metadata": {},
   "source": [
    "# Visualisasi Data"
   ]
  },
  {
   "cell_type": "code",
   "execution_count": 163,
   "id": "7e74ddd0",
   "metadata": {},
   "outputs": [
    {
     "data": {
      "image/png": "[encoded data removed]",
      "text/plain": [
       "<Figure size 1152x432 with 1 Axes>"
      ]
     },
     "metadata": {
      "needs_background": "light"
     },
     "output_type": "display_data"
    }
   ],
   "source": [
    "import numpy as np\n",
    "import pandas as pd\n",
    "pd.set_option(\"display.max_columns\", None)\n",
    "\n",
    "import ssl\n",
    "ssl._create_default_https_context = ssl._create_unverified_context\n",
    "\n",
    "covid_url = \"https://dqlab.id/data/covid19_worldwide_2020.json\"\n",
    "df_covid_worldwide = pd.read_json(covid_url)\n",
    "df_covid_worldwide = df_covid_worldwide.set_index(\"date\").sort_index().dropna()\n",
    "\n",
    "countries_url = \"https://dqlab.id/data/country_details.json\"\n",
    "df_countries = pd.read_json(countries_url)\n",
    "\n",
    "df_covid_denormalized = pd.merge(df_covid_worldwide.reset_index(), df_countries, on=\"geo_id\").set_index(\"date\")\n",
    "\n",
    "asean_country_id = [\"ID\", \"MY\", \"SG\", \"TH\", \"VN\"]\n",
    "filter_list = [(df_covid_denormalized[\"geo_id\"]==country_id).to_numpy() for country_id in asean_country_id]\n",
    "filter_array = np.column_stack(filter_list).sum(axis=1, dtype=\"bool\")\n",
    "df_covid_denormalized_asean = df_covid_denormalized[filter_array].sort_index()\n",
    "df_covid_denormalized_asean = df_covid_denormalized_asean.reset_index().sort_values([\"date\"])\n",
    "df_covid_denormalized_asean_march_onward = df_covid_denormalized_asean[df_covid_denormalized_asean[\"date\"]>=\"2020-03-01\"].sort_values(\"confirmed_cases\", ascending=False)\n",
    "import matplotlib.pyplot as plt\n",
    "import seaborn as sns\n",
    "plt.figure(figsize=(16,6))\n",
    "sns.lineplot(x=\"date\", \n",
    "             y=\"confirmed_cases\", \n",
    "             hue=\"country_name\",\n",
    "             data=df_covid_denormalized_asean_march_onward,\n",
    "             linewidth=2)\n",
    "plt.xlabel('Record Date', fontsize=14)\n",
    "plt.ylabel('Total Cases', fontsize=14)\n",
    "plt.title('Comparison of COVID19 Cases in 5 ASEAN Countries', color=\"b\", fontsize=18)\n",
    "plt.grid()\n",
    "plt.tight_layout()\n",
    "plt.show()"
   ]
  },
  {
   "cell_type": "code",
   "execution_count": null,
   "id": "fa7171f8",
   "metadata": {},
   "outputs": [],
   "source": []
  }
 ],
 "metadata": {
  "kernelspec": {
   "display_name": "Python 3 (ipykernel)",
   "language": "python",
   "name": "python3"
  },
  "language_info": {
   "codemirror_mode": {
    "name": "ipython",
    "version": 3
   },
   "file_extension": ".py",
   "mimetype": "text/x-python",
   "name": "python",
   "nbconvert_exporter": "python",
   "pygments_lexer": "ipython3",
   "version": "3.9.7"
  }
 },
 "nbformat": 4,
 "nbformat_minor": 5
}
